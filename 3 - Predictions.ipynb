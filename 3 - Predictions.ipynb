{
 "cells": [
  {
   "cell_type": "code",
   "execution_count": null,
   "id": "d784a39c-0a7e-4361-bd10-61468429585b",
   "metadata": {},
   "outputs": [],
   "source": [
    "import tensorflow_decision_forests as tfdf\n",
    "import tensorflow_probability as tfp\n",
    "import tensorflow as tf\n",
    "import numpy as np\n",
    "import pandas as pd\n",
    "from tensorflow import keras\n",
    "from scipy.stats import pearsonr\n",
    "def ubrmse(ground,pred):\n",
    "    bias = np.mean(ground-pred)\n",
    "    rmse = np.sqrt(np.mean((ground-pred)**2))\n",
    "    ubrmse = np.sqrt(rmse**2-bias**2)\n",
    "    return round(ubrmse,4)"
   ]
  },
  {
   "cell_type": "markdown",
   "id": "51398f4f-901e-4fdf-abaa-aeee39b0b2a1",
   "metadata": {
    "tags": []
   },
   "source": [
    "# Load Models"
   ]
  },
  {
   "cell_type": "markdown",
   "id": "2567c1db-7a14-405f-aa67-b235a80421b8",
   "metadata": {
    "tags": []
   },
   "source": [
    "## Random Forest"
   ]
  },
  {
   "cell_type": "markdown",
   "id": "0df5774f-e614-4442-81be-3a49d55d6056",
   "metadata": {},
   "source": [
    "This section loads the RF ensemble members into the rf_dict and relevant functions for ensemble predictions"
   ]
  },
  {
   "cell_type": "code",
   "execution_count": null,
   "id": "d157bf79-c81b-4dfc-aca2-569cc71256f0",
   "metadata": {
    "tags": []
   },
   "outputs": [],
   "source": [
    "import os\n",
    "rf_dict = {}\n",
    "for i in os.listdir('Models/RF/'):\n",
    "    if i in rf_dict.keys():\n",
    "        continue\n",
    "    if i =='summaries':\n",
    "        continue\n",
    "    try:\n",
    "        int(i)\n",
    "    except:\n",
    "        continue\n",
    "    rf_dict[i] = tf.keras.models.load_model('Models/RF/{}'.format(i))"
   ]
  },
  {
   "cell_type": "code",
   "execution_count": null,
   "id": "987287f3-e03f-48e2-95d6-a22cd423b093",
   "metadata": {},
   "outputs": [],
   "source": [
    "def batch_dict(df,spatial):\n",
    "    test_dict = {}\n",
    "    lst,ndvi = spatial\n",
    "    for var in ['sand','clay','ph','dem','ET',ndvi,lst,'smap', 'precip']:\n",
    "        if var == ndvi:\n",
    "            test_dict['NDVI_500'] = df[var].values\n",
    "        elif var == lst:\n",
    "            test_dict['LST_11'] = df[var].values\n",
    "        else:\n",
    "            test_dict[var] = df[var].values\n",
    "    return test_dict\n",
    "\n",
    "def rf_predict(df,model_dict,spatial):\n",
    "    batched_dict = batch_dict(df,spatial)\n",
    "    preds = []\n",
    "    for i in model_dict.values():\n",
    "        preds.append(i.predict_on_batch(batched_dict))\n",
    "    preds = np.asarray(preds)\n",
    "    predictions = np.mean(preds,axis=0)\n",
    "    return predictions.squeeze()"
   ]
  },
  {
   "cell_type": "markdown",
   "id": "c8b7cdc0-9d76-4480-96fc-a231011a627d",
   "metadata": {
    "tags": []
   },
   "source": [
    "## Ensembles"
   ]
  },
  {
   "cell_type": "markdown",
   "id": "c59fb573-1c0d-4387-baeb-69c1a2997fd1",
   "metadata": {},
   "source": [
    "This is the ensemble prediction functions and nll loss needed when loading a model"
   ]
  },
  {
   "cell_type": "code",
   "execution_count": null,
   "id": "81ef5932-2d21-4afa-b0fe-2dd1e4a328eb",
   "metadata": {
    "tags": []
   },
   "outputs": [],
   "source": [
    "def ens_pred(df,model_dict):\n",
    "    preds = []\n",
    "    for i in model_dict.values():\n",
    "        preds.append(i(df.values).mean().numpy().squeeze())\n",
    "    \n",
    "    prediction = np.mean(np.asarray(preds),axis=0).squeeze()\n",
    "    return prediction\n",
    "\n",
    "def wdl_ens(df,model_dict,spatial=False):\n",
    "    wide_in,dnn_in = wide_inputs(df,spatial)\n",
    "    preds = []\n",
    "    for i in model_dict.values():\n",
    "        preds.append(i((wide_in,dnn_in)).numpy().squeeze())\n",
    "    return np.mean(np.asarray(preds),axis=0)\n",
    "\n",
    "cat_dict = {'texture':13,'mcd12':18,'koep':32}\n",
    "\n",
    "def wide_inputs(df,spatial=False):\n",
    "    if spatial:\n",
    "        dnn_in = df.loc[:,['sand','clay','ph','dem','NDVI_250','LST_11','ET','precip','smap']]\n",
    "    else:\n",
    "        dnn_in = df.loc[:,['sand','clay','ph','dem','NDVI_500','LST_11','ET','precip','smap']]\n",
    "    wide_in = dnn_in\n",
    "    cats = df.loc[:,['texture','mcd12','koep']]\n",
    "    cat_embeds = []\n",
    "    for cat in cats.columns:\n",
    "        embedding = np.eye(cat_dict[cat])[cats[cat].astype(int)]\n",
    "        cat_embeds.append(np.asarray(embedding))\n",
    "\n",
    "    embeddings = np.concatenate(cat_embeds,axis=1)\n",
    "    dnn_in = np.concatenate([dnn_in,embeddings],axis=1)\n",
    "    return wide_in.values.astype(float),dnn_in.astype(float)\n",
    "\n",
    "def nll(y_true, y_pred):\n",
    "    return -y_pred.log_prob(y_true)"
   ]
  },
  {
   "cell_type": "code",
   "execution_count": null,
   "id": "f9b73c6f-3837-4bd3-8095-974b00974ff3",
   "metadata": {},
   "outputs": [],
   "source": [
    "prob_dict = {}\n",
    "dense_dict = {}\n",
    "wdl_dict = {}\n",
    "\n",
    "for att in ['sand','clay','koep','mcd12','free','ph','texture']:\n",
    "    dense_dict[att] = tf.keras.models.load_model(f'Models/Dense/{att}',custom_objects={'nll':nll}, compile=False)\n",
    "    prob_dict[att] = tf.keras.models.load_model(f'Models/Prob/{att}',custom_objects={'nll':nll}, compile=False)\n",
    "    wdl_dict[att] = tf.keras.models.load_model(f'Models/WDL/{att}',custom_objects={'nll':nll}, compile=False)"
   ]
  },
  {
   "cell_type": "markdown",
   "id": "51ee148d-1608-4638-8a58-ba90a3d362c0",
   "metadata": {
    "tags": []
   },
   "source": [
    "# Validation Datasets"
   ]
  },
  {
   "cell_type": "code",
   "execution_count": null,
   "id": "f0050169-15da-4cf2-94f8-e34e8bcac44f",
   "metadata": {},
   "outputs": [],
   "source": [
    "def to_rf(df):\n",
    "    df = df.fillna(-1)\n",
    "    for col in df.columns:\n",
    "        if col in ['dem','smap','precip','in_situ']:\n",
    "            df[col] = df[col].astype('float32')\n",
    "        elif col =='date':\n",
    "            continue\n",
    "        else:\n",
    "            df[col] = df[col].astype('int16')\n",
    "    return df\n",
    "\n",
    "def station_metrics(df,pred,situ='in_situ'):\n",
    "    let = pred.split('_')[0]\n",
    "    stat_dicts = {}\n",
    "    for stat in df.index.unique():\n",
    "        stat_df = df.loc[stat]\n",
    "        if type(stat_df) == pd.core.series.Series:\n",
    "            continue\n",
    "        stat_r = pearsonr(stat_df[situ],stat_df[pred])[0]\n",
    "        stat_ub = ubrmse(stat_df[situ],stat_df[pred])\n",
    "        stat_b = round(np.mean(stat_df[pred]-stat_df[situ]),3) \n",
    "        stat_dicts[stat] = {'{}_r'.format(let):stat_r,\n",
    "                            '{}_ub'.format(let):stat_ub,\n",
    "                            '{}_b'.format(let):stat_b}\n",
    "    return pd.DataFrame().from_dict(stat_dicts,orient='index')"
   ]
  },
  {
   "cell_type": "markdown",
   "id": "a6da085a-7711-4699-97c8-19e753469de5",
   "metadata": {
    "tags": []
   },
   "source": [
    "## Val DF"
   ]
  },
  {
   "cell_type": "markdown",
   "id": "03c4d09b-f015-4c93-ac32-634b4cf59e68",
   "metadata": {},
   "source": [
    "Here we load the datasets"
   ]
  },
  {
   "cell_type": "code",
   "execution_count": null,
   "id": "767262eb-687e-45df-895c-1286ed7f19bf",
   "metadata": {},
   "outputs": [],
   "source": [
    "test_df = pd.read_pickle('Datasets/val_df.pkl')\n",
    "test_rf = pd.read_pickle('Datasets/RF_val_df.pkl')"
   ]
  },
  {
   "cell_type": "markdown",
   "id": "651053a7-a738-467a-9050-bf380e94e591",
   "metadata": {},
   "source": [
    "Here we predict SWC"
   ]
  },
  {
   "cell_type": "code",
   "execution_count": null,
   "id": "f6b64c46-c8e9-4a04-8b28-11cd9210ab30",
   "metadata": {
    "tags": []
   },
   "outputs": [],
   "source": [
    "variables = ['sand','clay','ph','dem','ET','NDVI_500','LST_11','precip','smap']\n",
    "val_df = test_df.loc[:,variables]\n",
    "dense_pred = ens_pred(val_df,dense_dict)\n",
    "prob_pred = ens_pred(val_df,prob_dict)\n",
    "wens_pred = wdl_ens(test_df,wdl_dict)\n",
    "rf_pred = rf_predict(test_rf.drop('in_situ',axis=1),rf_dict,['LST_11','NDVI_500'])"
   ]
  },
  {
   "cell_type": "markdown",
   "id": "14551769-0bbd-4498-9862-c4e6caac1f7f",
   "metadata": {},
   "source": [
    "Here we save predictions to a DataFrame"
   ]
  },
  {
   "cell_type": "code",
   "execution_count": null,
   "id": "57c8ee14-0e04-40cd-88f8-a63d9b0f2fe0",
   "metadata": {
    "tags": []
   },
   "outputs": [],
   "source": [
    "val_pred_df = test_df.copy()[['in_situ','smap']]\n",
    "val_pred_df['d_pred'] = dense_pred\n",
    "val_pred_df['p_pred'] = prob_pred\n",
    "val_pred_df['wens_pred'] = wens_pred\n",
    "val_pred_df['r_pred'] = rf_pred\n",
    "\n",
    "#Save Predictions to File\n",
    "val_pred_df.to_pickle('Datasets/val_df_preds.pkl')"
   ]
  },
  {
   "cell_type": "markdown",
   "id": "2584166c-a951-415b-af2d-96cd1f25a801",
   "metadata": {},
   "source": [
    "Here we go through each station in the dataset and calculate the metrics for each station and combine them into a single dataframe"
   ]
  },
  {
   "cell_type": "code",
   "execution_count": null,
   "id": "79143263-f8be-4c3a-8c16-0e36faaead1b",
   "metadata": {
    "tags": []
   },
   "outputs": [],
   "source": [
    "pred_df = val_pred_df\n",
    "prob_mets = station_metrics(pred_df,'p_pred')\n",
    "dense_mets = station_metrics(pred_df,'d_pred')\n",
    "smap_mets = station_metrics(pred_df,'smap')\n",
    "wens_mets = station_metrics(pred_df,'wens_pred')\n",
    "rf_mets = station_metrics(pred_df,'r_pred')\n",
    "\n",
    "ds_mets = pd.concat([dense_mets,prob_mets,wens_mets,rf_mets,smap_mets],axis=1).dropna()\n",
    "algs = ['d_','p_','wens_','r_','smap_']\n",
    "\n",
    "#List the Station Metrics for the top 16 stations\n",
    "stations_df = ds_mets.loc[test_df.loc[ds_mets.index].index.value_counts().index][:16]\n",
    "stations_df = pd.concat([stations_df,stations_df.mean().rename('Avg.').to_frame().T])\n",
    "stations_df.round(3).style.highlight_max(subset=[i+'r' for i in algs],axis=1,color='blue').highlight_min(subset=[i+'ub' for i in algs],axis=1,color='red').highlight_min(subset=[i+'b' for i in algs],axis=1,color='green').format(precision=3)"
   ]
  },
  {
   "cell_type": "markdown",
   "id": "b0726279-7a38-43ea-b52a-05731296943d",
   "metadata": {},
   "source": [
    "This is a summary of the metrics scored on each station in the dataset"
   ]
  },
  {
   "cell_type": "code",
   "execution_count": null,
   "id": "1d196306-35db-45bc-9b59-379fbf1a27df",
   "metadata": {
    "tags": []
   },
   "outputs": [],
   "source": [
    "series = []\n",
    "for var in ['_r','_ub','_b']:\n",
    "    sub = ds_mets[[i for i in ds_mets.columns if var in i]]\n",
    "    avg = sub.mean()\n",
    "    avg.name = var\n",
    "    avg = avg.to_frame().T\n",
    "    avg.columns = ['Dense','Prob','Wens','RF','SMAP']\n",
    "    series.append(avg)\n",
    "avgs = pd.concat(series)\n",
    "avgs.index = ['R','ubRMSE','Bias']\n",
    "avgs.round(3)"
   ]
  },
  {
   "cell_type": "markdown",
   "id": "8d6a3232-6eba-4253-aa39-37f687133d68",
   "metadata": {
    "tags": []
   },
   "source": [
    "## Washita"
   ]
  },
  {
   "cell_type": "code",
   "execution_count": null,
   "id": "0a51f423-4e6c-497c-9c9b-a9b834570a7a",
   "metadata": {
    "tags": []
   },
   "outputs": [],
   "source": [
    "wa_df = pd.read_pickle('Datasets/wa_validation.pkl')\n",
    "wa_rf = wa_df.copy()\n",
    "wa_df['NDVI_500'] /= 10000\n",
    "wa_df['LST_11'] /= 5000\n",
    "wa_df['LST_11'] -= 2.7315\n",
    "wa_df['precip'] /= 1000\n",
    "wa_df['sand'] /= 100\n",
    "wa_df['clay'] /= 100\n",
    "wa_df['ET'] /= 1000\n",
    "wa_df['ph'] /= 1000\n",
    "wa_df['dem'] /= 10000\n",
    "wa_df.dem = round(wa_df.dem,4)\n",
    "cond = wa_df.LST_11 > 0\n",
    "wa_df = wa_df[cond]\n",
    "wa_rf = wa_rf[cond]\n",
    "wa_rf = to_rf(wa_rf)"
   ]
  },
  {
   "cell_type": "code",
   "execution_count": null,
   "id": "45e3d7e1-7c55-4767-b247-512bb66d7814",
   "metadata": {},
   "outputs": [],
   "source": [
    "val_df = wa_df.loc[:,['sand','clay','ph','dem','ET','NDVI_500','LST_11','precip','smap']]\n",
    "dense_pred = ens_pred(val_df,dense_dict)\n",
    "prob_pred = ens_pred(val_df,prob_dict)\n",
    "wens_pred = wdl_ens(wa_df,wdl_dict)\n",
    "rf_pred = rf_predict(wa_rf,rf_dict,['LST_11','NDVI_500'])"
   ]
  },
  {
   "cell_type": "code",
   "execution_count": null,
   "id": "86affb93-b5e9-494b-8fa1-17e038600076",
   "metadata": {
    "tags": []
   },
   "outputs": [],
   "source": [
    "wa_pred_df = wa_df.copy()[['in_situ','smap']]\n",
    "wa_pred_df['d_pred'] = dense_pred\n",
    "wa_pred_df['p_pred'] = prob_pred\n",
    "wa_pred_df['wens_pred'] = wens_pred\n",
    "wa_pred_df['r_pred'] = rf_pred\n",
    "wa_pred_df.to_pickle('Datasets/wa_df_preds.pkl')"
   ]
  },
  {
   "cell_type": "code",
   "execution_count": null,
   "id": "9d9be496-d42c-451c-91ef-a0d34063d989",
   "metadata": {
    "tags": []
   },
   "outputs": [],
   "source": [
    "prob_mets = station_metrics(wa_pred_df,'p_pred')\n",
    "dense_mets = station_metrics(wa_pred_df,'d_pred')\n",
    "smap_mets = station_metrics(wa_pred_df,'smap')\n",
    "wens_mets = station_metrics(wa_pred_df,'wens_pred')\n",
    "r_mets = station_metrics(wa_pred_df,'r_pred')\n",
    "wa_mets = pd.concat([dense_mets,prob_mets,wens_mets,r_mets,smap_mets],axis=1).dropna()"
   ]
  },
  {
   "cell_type": "code",
   "execution_count": null,
   "id": "7c3ce47c-09c9-4aab-b2d0-58aa5baa1ac0",
   "metadata": {
    "tags": []
   },
   "outputs": [],
   "source": [
    "new_mets = wa_mets\n",
    "mean_mets = new_mets.mean().rename('Avg.')\n",
    "\n",
    "# Concatenate the selected rows with the mean\n",
    "new_mets = pd.concat([new_mets.loc[new_mets.index.value_counts().index], mean_mets.to_frame().T])\n",
    "algs = ['p_','d_','wens_','r_','smap_']\n",
    "\n",
    "new_mets.round(3).style.highlight_max(subset=[i+'r' for i in algs],axis=1,color='blue').highlight_min(subset=[i+'ub' for i in algs],axis=1,color='red').highlight_min(subset=[i+'b' for i in algs],axis=1,color='green').format(precision=3)"
   ]
  },
  {
   "cell_type": "code",
   "execution_count": null,
   "id": "7a4a2e7c-5e3a-4e58-86c8-e8fcc631926f",
   "metadata": {},
   "outputs": [],
   "source": [
    "series = []\n",
    "for var in ['_r','_ub','_b']:\n",
    "    sub = wa_mets[[i for i in wa_mets.columns if var in i]]\n",
    "    avg = sub.mean()\n",
    "    avg.name = var\n",
    "    avg = avg.to_frame().T\n",
    "    avg.columns = ['Dense','Prob','Wens','RF','SMAP']\n",
    "    series.append(avg)\n",
    "avgs = pd.concat(series)\n",
    "avgs.index = ['R','ubRMSE','Bias']\n",
    "avgs.round(3)"
   ]
  },
  {
   "cell_type": "markdown",
   "id": "e7b7f6b1-cec4-4cf5-bd35-5762a0f26288",
   "metadata": {
    "tags": []
   },
   "source": [
    "## Fort Cobb"
   ]
  },
  {
   "cell_type": "code",
   "execution_count": null,
   "id": "58143694-fff5-4f6a-b5de-0cfd568954c7",
   "metadata": {},
   "outputs": [],
   "source": [
    "fc_df = pd.read_pickle('Datasets/fc_validation.pkl')\n",
    "fc_rf = fc_df.copy()\n",
    "fc_df['NDVI_500'] /= 10000\n",
    "fc_df['LST_11'] /= 5000\n",
    "fc_df['LST_11'] -= 2.7315\n",
    "fc_df['precip'] /= 1000\n",
    "fc_df['sand'] /= 100\n",
    "fc_df['clay'] /= 100\n",
    "fc_df['ET'] /= 1000\n",
    "fc_df['ph'] /= 100\n",
    "fc_df['dem'] /= 10000\n",
    "fc_df.dem = round(fc_df.dem,4)\n",
    "cond = fc_df.LST_11 > 0\n",
    "fc_df = fc_df[cond]\n",
    "fc_rf = fc_rf[cond]\n",
    "fc_rf = to_rf(fc_rf)"
   ]
  },
  {
   "cell_type": "code",
   "execution_count": null,
   "id": "7365b9ad-61bd-46e6-a07c-1530e3b8f17b",
   "metadata": {
    "tags": []
   },
   "outputs": [],
   "source": [
    "base_df = fc_df\n",
    "val_df = base_df.loc[:,['sand','clay','ph','dem','ET','NDVI_500','LST_11','precip','smap']]\n",
    "dense_pred = ens_pred(val_df,dense_dict)\n",
    "prob_pred = ens_pred(val_df,prob_dict)\n",
    "wens_pred = wdl_ens(base_df,wdl_dict)\n",
    "rf_pred = rf_predict(fc_rf,rf_dict,['LST_11','NDVI_500'])"
   ]
  },
  {
   "cell_type": "code",
   "execution_count": null,
   "id": "4a16e230-72cd-4692-9cd7-88343179a628",
   "metadata": {},
   "outputs": [],
   "source": [
    "fc_pred_df = fc_df.copy()[['in_situ','smap']]\n",
    "fc_pred_df['d_pred'] = dense_pred\n",
    "fc_pred_df['p_pred'] = prob_pred\n",
    "fc_pred_df['wens_pred'] = wens_pred\n",
    "fc_pred_df['r_pred'] = rf_pred\n",
    "fc_pred_df.to_pickle('Datasets/fc_df_preds.pkl')"
   ]
  },
  {
   "cell_type": "code",
   "execution_count": null,
   "id": "78e28635-bbbc-446a-b9fb-3117db61ecc5",
   "metadata": {},
   "outputs": [],
   "source": [
    "pred_df = fc_pred_df\n",
    "prob_mets = station_metrics(pred_df,'p_pred')\n",
    "dense_mets = station_metrics(pred_df,'d_pred')\n",
    "smap_mets = station_metrics(pred_df,'smap')\n",
    "wens_mets = station_metrics(pred_df,'wens_pred')\n",
    "r_mets = station_metrics(pred_df,'r_pred')\n",
    "fc_mets = pd.concat([dense_mets,prob_mets,wens_mets,r_mets,smap_mets],axis=1).dropna()"
   ]
  },
  {
   "cell_type": "code",
   "execution_count": null,
   "id": "c953686d-20e7-4f33-ab95-a343470cd56f",
   "metadata": {
    "tags": []
   },
   "outputs": [],
   "source": [
    "new_mets = fc_mets\n",
    "mean_mets = new_mets.mean().rename('Avg.')\n",
    "\n",
    "# Concatenate the selected rows with the mean\n",
    "new_mets = pd.concat([new_mets.loc[new_mets.index.value_counts().index], mean_mets.to_frame().T])\n",
    "algs = ['p_','d_','wens_','r_','smap_']\n",
    "\n",
    "new_mets.round(3).style.highlight_max(subset=[i+'r' for i in algs],axis=1,color='blue').highlight_min(subset=[i+'ub' for i in algs],axis=1,color='red').highlight_min(subset=[i+'b' for i in algs],axis=1,color='green').format(precision=3)"
   ]
  },
  {
   "cell_type": "code",
   "execution_count": null,
   "id": "dcba9526-0c02-4eb8-bb47-944c07c9956b",
   "metadata": {},
   "outputs": [],
   "source": [
    "series = []\n",
    "for var in ['_r','_ub','_b']:\n",
    "    sub = fc_mets[[i for i in fc_mets.columns if var in i]]\n",
    "    avg = sub.mean()\n",
    "    avg.name = var\n",
    "    avg = avg.to_frame().T\n",
    "    avg.columns = ['Dense','Prob','Wens','RF','SMAP']\n",
    "    series.append(avg)\n",
    "avgs = pd.concat(series)\n",
    "avgs.index = ['R','ubRMSE','Bias']\n",
    "avgs.round(3)"
   ]
  }
 ],
 "metadata": {
  "kernelspec": {
   "display_name": "tf",
   "language": "python",
   "name": "tf"
  },
  "language_info": {
   "codemirror_mode": {
    "name": "ipython",
    "version": 3
   },
   "file_extension": ".py",
   "mimetype": "text/x-python",
   "name": "python",
   "nbconvert_exporter": "python",
   "pygments_lexer": "ipython3",
   "version": "3.11.5"
  }
 },
 "nbformat": 4,
 "nbformat_minor": 5
}
