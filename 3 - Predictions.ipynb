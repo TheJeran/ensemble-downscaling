{
 "cells": [
  {
   "cell_type": "code",
   "execution_count": null,
   "id": "d784a39c-0a7e-4361-bd10-61468429585b",
   "metadata": {},
   "outputs": [
    {
     "name": "stderr",
     "output_type": "stream",
     "text": [
      "2024-01-10 09:50:18.962449: I tensorflow/tsl/cuda/cudart_stub.cc:28] Could not find cuda drivers on your machine, GPU will not be used.\n",
      "2024-01-10 09:50:19.807577: I tensorflow/tsl/cuda/cudart_stub.cc:28] Could not find cuda drivers on your machine, GPU will not be used.\n",
      "2024-01-10 09:50:19.808676: I tensorflow/core/platform/cpu_feature_guard.cc:182] This TensorFlow binary is optimized to use available CPU instructions in performance-critical operations.\n",
      "To enable the following instructions: AVX2 FMA, in other operations, rebuild TensorFlow with the appropriate compiler flags.\n",
      "2024-01-10 09:50:26.816148: W tensorflow/compiler/tf2tensorrt/utils/py_utils.cc:38] TF-TRT Warning: Could not find TensorRT\n"
     ]
    }
   ],
   "source": [
    "import tensorflow_decision_forests as tfdf\n",
    "import tensorflow_probability as tfp\n",
    "import tensorflow as tf\n",
    "import numpy as np\n",
    "import pandas as pd\n",
    "from tensorflow import keras\n",
    "from scipy.stats import pearsonr\n",
    "def ubrmse(ground,pred):\n",
    "    bias = np.mean(ground-pred)\n",
    "    rmse = np.sqrt(np.mean((ground-pred)**2))\n",
    "    ubrmse = np.sqrt(rmse**2-bias**2)\n",
    "    return round(ubrmse,4)"
   ]
  },
  {
   "cell_type": "markdown",
   "id": "51398f4f-901e-4fdf-abaa-aeee39b0b2a1",
   "metadata": {
    "tags": []
   },
   "source": [
    "# Load Models"
   ]
  },
  {
   "cell_type": "markdown",
   "id": "2567c1db-7a14-405f-aa67-b235a80421b8",
   "metadata": {
    "tags": []
   },
   "source": [
    "## Random Forest"
   ]
  },
  {
   "cell_type": "markdown",
   "id": "0df5774f-e614-4442-81be-3a49d55d6056",
   "metadata": {},
   "source": [
    "This section loads the RF ensemble members into the rf_dict and relevant functions for ensemble predictions"
   ]
  },
  {
   "cell_type": "code",
   "execution_count": null,
   "id": "d157bf79-c81b-4dfc-aca2-569cc71256f0",
   "metadata": {
    "tags": []
   },
   "outputs": [],
   "source": [
    "import os\n",
    "rf_dict = {}\n",
    "for i in os.listdir('Models/RF/'):\n",
    "    if i in rf_dict.keys():\n",
    "        continue\n",
    "    if i =='summaries':\n",
    "        continue\n",
    "    try:\n",
    "        int(i)\n",
    "    except:\n",
    "        continue\n",
    "    rf_dict[i] = tf.keras.models.load_model('Models/RF/{}'.format(i))"
   ]
  },
  {
   "cell_type": "code",
   "execution_count": null,
   "id": "987287f3-e03f-48e2-95d6-a22cd423b093",
   "metadata": {},
   "outputs": [],
   "source": [
    "def batch_dict(df,spatial):\n",
    "    test_dict = {}\n",
    "    lst,ndvi = spatial\n",
    "    for var in ['sand','clay','ph','dem','ET',ndvi,lst,'smap', 'precip']:\n",
    "        if var == ndvi:\n",
    "            test_dict['NDVI_500'] = df[var].values\n",
    "        elif var == lst:\n",
    "            test_dict['LST_11'] = df[var].values\n",
    "        else:\n",
    "            test_dict[var] = df[var].values\n",
    "    return test_dict\n",
    "\n",
    "def rf_predict(df,model_dict,spatial):\n",
    "    batched_dict = batch_dict(df,spatial)\n",
    "    preds = []\n",
    "    for i in model_dict.values():\n",
    "        preds.append(i.predict_on_batch(batched_dict))\n",
    "    preds = np.asarray(preds)\n",
    "    predictions = np.mean(preds,axis=0)\n",
    "    return predictions.squeeze()"
   ]
  },
  {
   "cell_type": "markdown",
   "id": "c8b7cdc0-9d76-4480-96fc-a231011a627d",
   "metadata": {
    "tags": []
   },
   "source": [
    "## Ensembles"
   ]
  },
  {
   "cell_type": "markdown",
   "id": "c59fb573-1c0d-4387-baeb-69c1a2997fd1",
   "metadata": {},
   "source": [
    "This is the ensemble prediction functions and nll loss needed when loading a model"
   ]
  },
  {
   "cell_type": "code",
   "execution_count": null,
   "id": "81ef5932-2d21-4afa-b0fe-2dd1e4a328eb",
   "metadata": {
    "tags": []
   },
   "outputs": [],
   "source": [
    "def ens_pred(df,model_dict):\n",
    "    preds = []\n",
    "    for i in model_dict.values():\n",
    "        preds.append(i(df.values).mean().numpy().squeeze())\n",
    "    \n",
    "    prediction = np.mean(np.asarray(preds),axis=0).squeeze()\n",
    "    return prediction\n",
    "\n",
    "def wdl_ens(df,model_dict,spatial=False):\n",
    "    wide_in,dnn_in = wide_inputs(df,spatial)\n",
    "    preds = []\n",
    "    for i in model_dict.values():\n",
    "        preds.append(i((wide_in,dnn_in)).numpy().squeeze())\n",
    "    return np.mean(np.asarray(preds),axis=0)\n",
    "\n",
    "cat_dict = {'texture':13,'mcd12':18,'koep':32}\n",
    "\n",
    "def wide_inputs(df,spatial=False):\n",
    "    if spatial:\n",
    "        dnn_in = df.loc[:,['sand','clay','ph','dem','NDVI_250','LST_11','ET','precip','smap']]\n",
    "    else:\n",
    "        dnn_in = df.loc[:,['sand','clay','ph','dem','NDVI_500','LST_11','ET','precip','smap']]\n",
    "    wide_in = dnn_in\n",
    "    cats = df.loc[:,['texture','mcd12','koep']]\n",
    "    cat_embeds = []\n",
    "    for cat in cats.columns:\n",
    "        embedding = np.eye(cat_dict[cat])[cats[cat].astype(int)]\n",
    "        cat_embeds.append(np.asarray(embedding))\n",
    "\n",
    "    embeddings = np.concatenate(cat_embeds,axis=1)\n",
    "    dnn_in = np.concatenate([dnn_in,embeddings],axis=1)\n",
    "    return wide_in.values.astype(float),dnn_in.astype(float)\n",
    "\n",
    "def nll(y_true, y_pred):\n",
    "    return -y_pred.log_prob(y_true)"
   ]
  },
  {
   "cell_type": "code",
   "execution_count": null,
   "id": "f9b73c6f-3837-4bd3-8095-974b00974ff3",
   "metadata": {},
   "outputs": [],
   "source": [
    "prob_dict = {}\n",
    "dense_dict = {}\n",
    "wdl_dict = {}\n",
    "\n",
    "for att in ['sand','clay','koep','mcd12','free','ph','texture']:\n",
    "    dense_dict[att] = tf.keras.models.load_model(f'Models/Dense/{att}',custom_objects={'nll':nll}, compile=False)\n",
    "    prob_dict[att] = tf.keras.models.load_model(f'Models/Prob/{att}',custom_objects={'nll':nll}, compile=False)\n",
    "    wdl_dict[att] = tf.keras.models.load_model(f'Models/WDL/{att}',custom_objects={'nll':nll}, compile=False)"
   ]
  },
  {
   "cell_type": "markdown",
   "id": "51ee148d-1608-4638-8a58-ba90a3d362c0",
   "metadata": {
    "tags": []
   },
   "source": [
    "# Validation Datasets"
   ]
  },
  {
   "cell_type": "code",
   "execution_count": 5,
   "id": "f0050169-15da-4cf2-94f8-e34e8bcac44f",
   "metadata": {},
   "outputs": [],
   "source": [
    "def to_rf(df):\n",
    "    df = df.fillna(-1)\n",
    "    for col in df.columns:\n",
    "        if col in ['dem','smap','precip','in_situ']:\n",
    "            df[col] = df[col].astype('float32')\n",
    "        elif col =='date':\n",
    "            continue\n",
    "        else:\n",
    "            df[col] = df[col].astype('int16')\n",
    "    return df\n",
    "\n",
    "def station_metrics(df,pred,situ='in_situ'):\n",
    "    let = pred.split('_')[0]\n",
    "    stat_dicts = {}\n",
    "    for stat in df.index.unique():\n",
    "        stat_df = df.loc[stat]\n",
    "        if type(stat_df) == pd.core.series.Series:\n",
    "            continue\n",
    "        stat_r = pearsonr(stat_df[situ],stat_df[pred])[0]\n",
    "        stat_ub = ubrmse(stat_df[situ],stat_df[pred])\n",
    "        stat_b = round(np.mean(stat_df[pred]-stat_df[situ]),3) \n",
    "        stat_dicts[stat] = {'{}_r'.format(let):stat_r,\n",
    "                            '{}_ub'.format(let):stat_ub,\n",
    "                            '{}_b'.format(let):stat_b}\n",
    "    return pd.DataFrame().from_dict(stat_dicts,orient='index')"
   ]
  },
  {
   "cell_type": "markdown",
   "id": "a6da085a-7711-4699-97c8-19e753469de5",
   "metadata": {
    "tags": []
   },
   "source": [
    "## Val DF"
   ]
  },
  {
   "cell_type": "markdown",
   "id": "03c4d09b-f015-4c93-ac32-634b4cf59e68",
   "metadata": {},
   "source": [
    "Here we load the datasets"
   ]
  },
  {
   "cell_type": "code",
   "execution_count": 1,
   "id": "f85f079f-2d2d-4f64-a0a2-973036a235f1",
   "metadata": {},
   "outputs": [],
   "source": [
    "import pandas as pd\n",
    "from scipy.stats import pearsonr\n",
    "def ubrmse(ground,pred):\n",
    "    bias = np.mean(ground-pred)\n",
    "    rmse = np.sqrt(np.mean((ground-pred)**2))\n",
    "    ubrmse = np.sqrt(rmse**2-bias**2)\n",
    "    return round(ubrmse,4)\n",
    "import numpy as np"
   ]
  },
  {
   "cell_type": "code",
   "execution_count": 2,
   "id": "767262eb-687e-45df-895c-1286ed7f19bf",
   "metadata": {},
   "outputs": [],
   "source": [
    "test_df = pd.read_pickle('Datasets/val_df.pkl')\n",
    "test_rf = pd.read_pickle('Datasets/RF_val_df.pkl')"
   ]
  },
  {
   "cell_type": "markdown",
   "id": "651053a7-a738-467a-9050-bf380e94e591",
   "metadata": {},
   "source": [
    "Here we predict SWC"
   ]
  },
  {
   "cell_type": "code",
   "execution_count": null,
   "id": "f6b64c46-c8e9-4a04-8b28-11cd9210ab30",
   "metadata": {
    "tags": []
   },
   "outputs": [],
   "source": [
    "variables = ['sand','clay','ph','dem','ET','NDVI_500','LST_11','precip','smap']\n",
    "val_df = test_df.loc[:,variables]\n",
    "dense_pred = ens_pred(val_df,dense_dict)\n",
    "prob_pred = ens_pred(val_df,prob_dict)\n",
    "wens_pred = wdl_ens(test_df,wdl_dict)\n",
    "rf_pred = rf_predict(test_rf.drop('in_situ',axis=1),rf_dict,['LST_11','NDVI_500'])"
   ]
  },
  {
   "cell_type": "markdown",
   "id": "14551769-0bbd-4498-9862-c4e6caac1f7f",
   "metadata": {},
   "source": [
    "Here we save predictions to a DataFrame"
   ]
  },
  {
   "cell_type": "code",
   "execution_count": null,
   "id": "57c8ee14-0e04-40cd-88f8-a63d9b0f2fe0",
   "metadata": {
    "tags": []
   },
   "outputs": [],
   "source": [
    "val_pred_df = test_df.copy()[['in_situ','smap']]\n",
    "val_pred_df['d_pred'] = dense_pred\n",
    "val_pred_df['p_pred'] = prob_pred\n",
    "val_pred_df['wens_pred'] = wens_pred\n",
    "val_pred_df['r_pred'] = rf_pred\n",
    "\n",
    "#Save Predictions to File\n",
    "val_pred_df.to_pickle('Datasets/val_df_preds.pkl')"
   ]
  },
  {
   "cell_type": "code",
   "execution_count": 3,
   "id": "8244775e-ce26-41b3-8faf-2a4ad99c856b",
   "metadata": {},
   "outputs": [],
   "source": [
    "val_pred_df = pd.read_pickle('Datasets/val_df_preds.pkl')"
   ]
  },
  {
   "cell_type": "markdown",
   "id": "2584166c-a951-415b-af2d-96cd1f25a801",
   "metadata": {},
   "source": [
    "Here we go through each station in the dataset and calculate the metrics for each station and combine them into a single dataframe"
   ]
  },
  {
   "cell_type": "code",
   "execution_count": 6,
   "id": "79143263-f8be-4c3a-8c16-0e36faaead1b",
   "metadata": {
    "tags": []
   },
   "outputs": [
    {
     "data": {
      "text/html": [
       "<style type=\"text/css\">\n",
       "#T_73331_row0_col0, #T_73331_row1_col9, #T_73331_row2_col0, #T_73331_row3_col3, #T_73331_row4_col3, #T_73331_row5_col3, #T_73331_row6_col3, #T_73331_row7_col12, #T_73331_row8_col0, #T_73331_row9_col0, #T_73331_row10_col0, #T_73331_row11_col3, #T_73331_row12_col3, #T_73331_row13_col9, #T_73331_row14_col9, #T_73331_row15_col3, #T_73331_row16_col3 {\n",
       "  background-color: blue;\n",
       "}\n",
       "#T_73331_row0_col1, #T_73331_row1_col4, #T_73331_row2_col10, #T_73331_row3_col4, #T_73331_row4_col10, #T_73331_row5_col4, #T_73331_row6_col10, #T_73331_row7_col13, #T_73331_row8_col1, #T_73331_row9_col1, #T_73331_row9_col4, #T_73331_row10_col1, #T_73331_row11_col4, #T_73331_row11_col10, #T_73331_row12_col10, #T_73331_row13_col10, #T_73331_row14_col1, #T_73331_row15_col4, #T_73331_row15_col10, #T_73331_row16_col1 {\n",
       "  background-color: red;\n",
       "}\n",
       "#T_73331_row0_col2, #T_73331_row0_col5, #T_73331_row1_col14, #T_73331_row2_col5, #T_73331_row3_col14, #T_73331_row4_col2, #T_73331_row5_col8, #T_73331_row6_col5, #T_73331_row7_col8, #T_73331_row8_col11, #T_73331_row9_col2, #T_73331_row10_col5, #T_73331_row11_col14, #T_73331_row12_col8, #T_73331_row13_col8, #T_73331_row14_col2, #T_73331_row15_col11, #T_73331_row16_col5 {\n",
       "  background-color: green;\n",
       "}\n",
       "</style>\n",
       "<table id=\"T_73331\">\n",
       "  <thead>\n",
       "    <tr>\n",
       "      <th class=\"blank level0\" >&nbsp;</th>\n",
       "      <th id=\"T_73331_level0_col0\" class=\"col_heading level0 col0\" >d_r</th>\n",
       "      <th id=\"T_73331_level0_col1\" class=\"col_heading level0 col1\" >d_ub</th>\n",
       "      <th id=\"T_73331_level0_col2\" class=\"col_heading level0 col2\" >d_b</th>\n",
       "      <th id=\"T_73331_level0_col3\" class=\"col_heading level0 col3\" >p_r</th>\n",
       "      <th id=\"T_73331_level0_col4\" class=\"col_heading level0 col4\" >p_ub</th>\n",
       "      <th id=\"T_73331_level0_col5\" class=\"col_heading level0 col5\" >p_b</th>\n",
       "      <th id=\"T_73331_level0_col6\" class=\"col_heading level0 col6\" >wens_r</th>\n",
       "      <th id=\"T_73331_level0_col7\" class=\"col_heading level0 col7\" >wens_ub</th>\n",
       "      <th id=\"T_73331_level0_col8\" class=\"col_heading level0 col8\" >wens_b</th>\n",
       "      <th id=\"T_73331_level0_col9\" class=\"col_heading level0 col9\" >r_r</th>\n",
       "      <th id=\"T_73331_level0_col10\" class=\"col_heading level0 col10\" >r_ub</th>\n",
       "      <th id=\"T_73331_level0_col11\" class=\"col_heading level0 col11\" >r_b</th>\n",
       "      <th id=\"T_73331_level0_col12\" class=\"col_heading level0 col12\" >smap_r</th>\n",
       "      <th id=\"T_73331_level0_col13\" class=\"col_heading level0 col13\" >smap_ub</th>\n",
       "      <th id=\"T_73331_level0_col14\" class=\"col_heading level0 col14\" >smap_b</th>\n",
       "    </tr>\n",
       "  </thead>\n",
       "  <tbody>\n",
       "    <tr>\n",
       "      <th id=\"T_73331_level0_row0\" class=\"row_heading level0 row0\" >SCAN:MonoclineRidge</th>\n",
       "      <td id=\"T_73331_row0_col0\" class=\"data row0 col0\" >0.831</td>\n",
       "      <td id=\"T_73331_row0_col1\" class=\"data row0 col1\" >0.062</td>\n",
       "      <td id=\"T_73331_row0_col2\" class=\"data row0 col2\" >-0.021</td>\n",
       "      <td id=\"T_73331_row0_col3\" class=\"data row0 col3\" >0.821</td>\n",
       "      <td id=\"T_73331_row0_col4\" class=\"data row0 col4\" >0.064</td>\n",
       "      <td id=\"T_73331_row0_col5\" class=\"data row0 col5\" >-0.021</td>\n",
       "      <td id=\"T_73331_row0_col6\" class=\"data row0 col6\" >0.737</td>\n",
       "      <td id=\"T_73331_row0_col7\" class=\"data row0 col7\" >0.076</td>\n",
       "      <td id=\"T_73331_row0_col8\" class=\"data row0 col8\" >-0.005</td>\n",
       "      <td id=\"T_73331_row0_col9\" class=\"data row0 col9\" >0.814</td>\n",
       "      <td id=\"T_73331_row0_col10\" class=\"data row0 col10\" >0.075</td>\n",
       "      <td id=\"T_73331_row0_col11\" class=\"data row0 col11\" >0.024</td>\n",
       "      <td id=\"T_73331_row0_col12\" class=\"data row0 col12\" >0.798</td>\n",
       "      <td id=\"T_73331_row0_col13\" class=\"data row0 col13\" >0.064</td>\n",
       "      <td id=\"T_73331_row0_col14\" class=\"data row0 col14\" >0.004</td>\n",
       "    </tr>\n",
       "    <tr>\n",
       "      <th id=\"T_73331_level0_row1\" class=\"row_heading level0 row1\" >USCRN:Goodwell-2-SE</th>\n",
       "      <td id=\"T_73331_row1_col0\" class=\"data row1 col0\" >0.692</td>\n",
       "      <td id=\"T_73331_row1_col1\" class=\"data row1 col1\" >0.055</td>\n",
       "      <td id=\"T_73331_row1_col2\" class=\"data row1 col2\" >-0.118</td>\n",
       "      <td id=\"T_73331_row1_col3\" class=\"data row1 col3\" >0.697</td>\n",
       "      <td id=\"T_73331_row1_col4\" class=\"data row1 col4\" >0.054</td>\n",
       "      <td id=\"T_73331_row1_col5\" class=\"data row1 col5\" >-0.115</td>\n",
       "      <td id=\"T_73331_row1_col6\" class=\"data row1 col6\" >0.585</td>\n",
       "      <td id=\"T_73331_row1_col7\" class=\"data row1 col7\" >0.061</td>\n",
       "      <td id=\"T_73331_row1_col8\" class=\"data row1 col8\" >-0.108</td>\n",
       "      <td id=\"T_73331_row1_col9\" class=\"data row1 col9\" >0.698</td>\n",
       "      <td id=\"T_73331_row1_col10\" class=\"data row1 col10\" >0.060</td>\n",
       "      <td id=\"T_73331_row1_col11\" class=\"data row1 col11\" >-0.091</td>\n",
       "      <td id=\"T_73331_row1_col12\" class=\"data row1 col12\" >0.672</td>\n",
       "      <td id=\"T_73331_row1_col13\" class=\"data row1 col13\" >0.057</td>\n",
       "      <td id=\"T_73331_row1_col14\" class=\"data row1 col14\" >-0.119</td>\n",
       "    </tr>\n",
       "    <tr>\n",
       "      <th id=\"T_73331_level0_row2\" class=\"row_heading level0 row2\" >SCAN:Spooky</th>\n",
       "      <td id=\"T_73331_row2_col0\" class=\"data row2 col0\" >0.576</td>\n",
       "      <td id=\"T_73331_row2_col1\" class=\"data row2 col1\" >0.023</td>\n",
       "      <td id=\"T_73331_row2_col2\" class=\"data row2 col2\" >0.032</td>\n",
       "      <td id=\"T_73331_row2_col3\" class=\"data row2 col3\" >0.572</td>\n",
       "      <td id=\"T_73331_row2_col4\" class=\"data row2 col4\" >0.026</td>\n",
       "      <td id=\"T_73331_row2_col5\" class=\"data row2 col5\" >0.029</td>\n",
       "      <td id=\"T_73331_row2_col6\" class=\"data row2 col6\" >0.428</td>\n",
       "      <td id=\"T_73331_row2_col7\" class=\"data row2 col7\" >0.031</td>\n",
       "      <td id=\"T_73331_row2_col8\" class=\"data row2 col8\" >0.031</td>\n",
       "      <td id=\"T_73331_row2_col9\" class=\"data row2 col9\" >0.550</td>\n",
       "      <td id=\"T_73331_row2_col10\" class=\"data row2 col10\" >0.022</td>\n",
       "      <td id=\"T_73331_row2_col11\" class=\"data row2 col11\" >0.112</td>\n",
       "      <td id=\"T_73331_row2_col12\" class=\"data row2 col12\" >0.472</td>\n",
       "      <td id=\"T_73331_row2_col13\" class=\"data row2 col13\" >0.037</td>\n",
       "      <td id=\"T_73331_row2_col14\" class=\"data row2 col14\" >0.054</td>\n",
       "    </tr>\n",
       "    <tr>\n",
       "      <th id=\"T_73331_level0_row3\" class=\"row_heading level0 row3\" >SCAN:KyleCanyon</th>\n",
       "      <td id=\"T_73331_row3_col0\" class=\"data row3 col0\" >0.419</td>\n",
       "      <td id=\"T_73331_row3_col1\" class=\"data row3 col1\" >0.066</td>\n",
       "      <td id=\"T_73331_row3_col2\" class=\"data row3 col2\" >0.025</td>\n",
       "      <td id=\"T_73331_row3_col3\" class=\"data row3 col3\" >0.421</td>\n",
       "      <td id=\"T_73331_row3_col4\" class=\"data row3 col4\" >0.065</td>\n",
       "      <td id=\"T_73331_row3_col5\" class=\"data row3 col5\" >0.030</td>\n",
       "      <td id=\"T_73331_row3_col6\" class=\"data row3 col6\" >0.383</td>\n",
       "      <td id=\"T_73331_row3_col7\" class=\"data row3 col7\" >0.067</td>\n",
       "      <td id=\"T_73331_row3_col8\" class=\"data row3 col8\" >0.066</td>\n",
       "      <td id=\"T_73331_row3_col9\" class=\"data row3 col9\" >0.410</td>\n",
       "      <td id=\"T_73331_row3_col10\" class=\"data row3 col10\" >0.067</td>\n",
       "      <td id=\"T_73331_row3_col11\" class=\"data row3 col11\" >0.071</td>\n",
       "      <td id=\"T_73331_row3_col12\" class=\"data row3 col12\" >0.309</td>\n",
       "      <td id=\"T_73331_row3_col13\" class=\"data row3 col13\" >0.069</td>\n",
       "      <td id=\"T_73331_row3_col14\" class=\"data row3 col14\" >0.016</td>\n",
       "    </tr>\n",
       "    <tr>\n",
       "      <th id=\"T_73331_level0_row4\" class=\"row_heading level0 row4\" >SCAN:Levelland</th>\n",
       "      <td id=\"T_73331_row4_col0\" class=\"data row4 col0\" >0.622</td>\n",
       "      <td id=\"T_73331_row4_col1\" class=\"data row4 col1\" >0.031</td>\n",
       "      <td id=\"T_73331_row4_col2\" class=\"data row4 col2\" >-0.005</td>\n",
       "      <td id=\"T_73331_row4_col3\" class=\"data row4 col3\" >0.637</td>\n",
       "      <td id=\"T_73331_row4_col4\" class=\"data row4 col4\" >0.031</td>\n",
       "      <td id=\"T_73331_row4_col5\" class=\"data row4 col5\" >-0.003</td>\n",
       "      <td id=\"T_73331_row4_col6\" class=\"data row4 col6\" >0.547</td>\n",
       "      <td id=\"T_73331_row4_col7\" class=\"data row4 col7\" >0.033</td>\n",
       "      <td id=\"T_73331_row4_col8\" class=\"data row4 col8\" >0.012</td>\n",
       "      <td id=\"T_73331_row4_col9\" class=\"data row4 col9\" >0.592</td>\n",
       "      <td id=\"T_73331_row4_col10\" class=\"data row4 col10\" >0.030</td>\n",
       "      <td id=\"T_73331_row4_col11\" class=\"data row4 col11\" >0.068</td>\n",
       "      <td id=\"T_73331_row4_col12\" class=\"data row4 col12\" >0.529</td>\n",
       "      <td id=\"T_73331_row4_col13\" class=\"data row4 col13\" >0.054</td>\n",
       "      <td id=\"T_73331_row4_col14\" class=\"data row4 col14\" >0.023</td>\n",
       "    </tr>\n",
       "    <tr>\n",
       "      <th id=\"T_73331_level0_row5\" class=\"row_heading level0 row5\" >US-MtB</th>\n",
       "      <td id=\"T_73331_row5_col0\" class=\"data row5 col0\" >0.720</td>\n",
       "      <td id=\"T_73331_row5_col1\" class=\"data row5 col1\" >0.040</td>\n",
       "      <td id=\"T_73331_row5_col2\" class=\"data row5 col2\" >0.020</td>\n",
       "      <td id=\"T_73331_row5_col3\" class=\"data row5 col3\" >0.722</td>\n",
       "      <td id=\"T_73331_row5_col4\" class=\"data row5 col4\" >0.039</td>\n",
       "      <td id=\"T_73331_row5_col5\" class=\"data row5 col5\" >0.012</td>\n",
       "      <td id=\"T_73331_row5_col6\" class=\"data row5 col6\" >0.695</td>\n",
       "      <td id=\"T_73331_row5_col7\" class=\"data row5 col7\" >0.041</td>\n",
       "      <td id=\"T_73331_row5_col8\" class=\"data row5 col8\" >-0.002</td>\n",
       "      <td id=\"T_73331_row5_col9\" class=\"data row5 col9\" >0.680</td>\n",
       "      <td id=\"T_73331_row5_col10\" class=\"data row5 col10\" >0.044</td>\n",
       "      <td id=\"T_73331_row5_col11\" class=\"data row5 col11\" >0.076</td>\n",
       "      <td id=\"T_73331_row5_col12\" class=\"data row5 col12\" >0.572</td>\n",
       "      <td id=\"T_73331_row5_col13\" class=\"data row5 col13\" >0.048</td>\n",
       "      <td id=\"T_73331_row5_col14\" class=\"data row5 col14\" >0.019</td>\n",
       "    </tr>\n",
       "    <tr>\n",
       "      <th id=\"T_73331_level0_row6\" class=\"row_heading level0 row6\" >USCRN:Monahans-6-ENE</th>\n",
       "      <td id=\"T_73331_row6_col0\" class=\"data row6 col0\" >0.735</td>\n",
       "      <td id=\"T_73331_row6_col1\" class=\"data row6 col1\" >0.015</td>\n",
       "      <td id=\"T_73331_row6_col2\" class=\"data row6 col2\" >0.042</td>\n",
       "      <td id=\"T_73331_row6_col3\" class=\"data row6 col3\" >0.747</td>\n",
       "      <td id=\"T_73331_row6_col4\" class=\"data row6 col4\" >0.019</td>\n",
       "      <td id=\"T_73331_row6_col5\" class=\"data row6 col5\" >0.040</td>\n",
       "      <td id=\"T_73331_row6_col6\" class=\"data row6 col6\" >0.563</td>\n",
       "      <td id=\"T_73331_row6_col7\" class=\"data row6 col7\" >0.021</td>\n",
       "      <td id=\"T_73331_row6_col8\" class=\"data row6 col8\" >0.042</td>\n",
       "      <td id=\"T_73331_row6_col9\" class=\"data row6 col9\" >0.712</td>\n",
       "      <td id=\"T_73331_row6_col10\" class=\"data row6 col10\" >0.013</td>\n",
       "      <td id=\"T_73331_row6_col11\" class=\"data row6 col11\" >0.115</td>\n",
       "      <td id=\"T_73331_row6_col12\" class=\"data row6 col12\" >0.704</td>\n",
       "      <td id=\"T_73331_row6_col13\" class=\"data row6 col13\" >0.028</td>\n",
       "      <td id=\"T_73331_row6_col14\" class=\"data row6 col14\" >0.044</td>\n",
       "    </tr>\n",
       "    <tr>\n",
       "      <th id=\"T_73331_level0_row7\" class=\"row_heading level0 row7\" >US-Var</th>\n",
       "      <td id=\"T_73331_row7_col0\" class=\"data row7 col0\" >0.922</td>\n",
       "      <td id=\"T_73331_row7_col1\" class=\"data row7 col1\" >0.068</td>\n",
       "      <td id=\"T_73331_row7_col2\" class=\"data row7 col2\" >0.011</td>\n",
       "      <td id=\"T_73331_row7_col3\" class=\"data row7 col3\" >0.920</td>\n",
       "      <td id=\"T_73331_row7_col4\" class=\"data row7 col4\" >0.074</td>\n",
       "      <td id=\"T_73331_row7_col5\" class=\"data row7 col5\" >0.010</td>\n",
       "      <td id=\"T_73331_row7_col6\" class=\"data row7 col6\" >0.911</td>\n",
       "      <td id=\"T_73331_row7_col7\" class=\"data row7 col7\" >0.084</td>\n",
       "      <td id=\"T_73331_row7_col8\" class=\"data row7 col8\" >0.006</td>\n",
       "      <td id=\"T_73331_row7_col9\" class=\"data row7 col9\" >0.940</td>\n",
       "      <td id=\"T_73331_row7_col10\" class=\"data row7 col10\" >0.082</td>\n",
       "      <td id=\"T_73331_row7_col11\" class=\"data row7 col11\" >0.039</td>\n",
       "      <td id=\"T_73331_row7_col12\" class=\"data row7 col12\" >0.945</td>\n",
       "      <td id=\"T_73331_row7_col13\" class=\"data row7 col13\" >0.049</td>\n",
       "      <td id=\"T_73331_row7_col14\" class=\"data row7 col14\" >0.053</td>\n",
       "    </tr>\n",
       "    <tr>\n",
       "      <th id=\"T_73331_level0_row8\" class=\"row_heading level0 row8\" >ARM:Ashton</th>\n",
       "      <td id=\"T_73331_row8_col0\" class=\"data row8 col0\" >0.877</td>\n",
       "      <td id=\"T_73331_row8_col1\" class=\"data row8 col1\" >0.034</td>\n",
       "      <td id=\"T_73331_row8_col2\" class=\"data row8 col2\" >0.030</td>\n",
       "      <td id=\"T_73331_row8_col3\" class=\"data row8 col3\" >0.862</td>\n",
       "      <td id=\"T_73331_row8_col4\" class=\"data row8 col4\" >0.036</td>\n",
       "      <td id=\"T_73331_row8_col5\" class=\"data row8 col5\" >0.018</td>\n",
       "      <td id=\"T_73331_row8_col6\" class=\"data row8 col6\" >0.807</td>\n",
       "      <td id=\"T_73331_row8_col7\" class=\"data row8 col7\" >0.042</td>\n",
       "      <td id=\"T_73331_row8_col8\" class=\"data row8 col8\" >0.030</td>\n",
       "      <td id=\"T_73331_row8_col9\" class=\"data row8 col9\" >0.856</td>\n",
       "      <td id=\"T_73331_row8_col10\" class=\"data row8 col10\" >0.039</td>\n",
       "      <td id=\"T_73331_row8_col11\" class=\"data row8 col11\" >-0.007</td>\n",
       "      <td id=\"T_73331_row8_col12\" class=\"data row8 col12\" >0.863</td>\n",
       "      <td id=\"T_73331_row8_col13\" class=\"data row8 col13\" >0.041</td>\n",
       "      <td id=\"T_73331_row8_col14\" class=\"data row8 col14\" >0.001</td>\n",
       "    </tr>\n",
       "    <tr>\n",
       "      <th id=\"T_73331_level0_row9\" class=\"row_heading level0 row9\" >USCRN:Muleshoe-19-S</th>\n",
       "      <td id=\"T_73331_row9_col0\" class=\"data row9 col0\" >0.703</td>\n",
       "      <td id=\"T_73331_row9_col1\" class=\"data row9 col1\" >0.040</td>\n",
       "      <td id=\"T_73331_row9_col2\" class=\"data row9 col2\" >-0.081</td>\n",
       "      <td id=\"T_73331_row9_col3\" class=\"data row9 col3\" >0.690</td>\n",
       "      <td id=\"T_73331_row9_col4\" class=\"data row9 col4\" >0.040</td>\n",
       "      <td id=\"T_73331_row9_col5\" class=\"data row9 col5\" >-0.079</td>\n",
       "      <td id=\"T_73331_row9_col6\" class=\"data row9 col6\" >0.505</td>\n",
       "      <td id=\"T_73331_row9_col7\" class=\"data row9 col7\" >0.048</td>\n",
       "      <td id=\"T_73331_row9_col8\" class=\"data row9 col8\" >-0.074</td>\n",
       "      <td id=\"T_73331_row9_col9\" class=\"data row9 col9\" >0.642</td>\n",
       "      <td id=\"T_73331_row9_col10\" class=\"data row9 col10\" >0.046</td>\n",
       "      <td id=\"T_73331_row9_col11\" class=\"data row9 col11\" >-0.019</td>\n",
       "      <td id=\"T_73331_row9_col12\" class=\"data row9 col12\" >0.634</td>\n",
       "      <td id=\"T_73331_row9_col13\" class=\"data row9 col13\" >0.048</td>\n",
       "      <td id=\"T_73331_row9_col14\" class=\"data row9 col14\" >-0.068</td>\n",
       "    </tr>\n",
       "    <tr>\n",
       "      <th id=\"T_73331_level0_row10\" class=\"row_heading level0 row10\" >SNOTEL:BarM</th>\n",
       "      <td id=\"T_73331_row10_col0\" class=\"data row10 col0\" >0.786</td>\n",
       "      <td id=\"T_73331_row10_col1\" class=\"data row10 col1\" >0.056</td>\n",
       "      <td id=\"T_73331_row10_col2\" class=\"data row10 col2\" >-0.101</td>\n",
       "      <td id=\"T_73331_row10_col3\" class=\"data row10 col3\" >0.776</td>\n",
       "      <td id=\"T_73331_row10_col4\" class=\"data row10 col4\" >0.059</td>\n",
       "      <td id=\"T_73331_row10_col5\" class=\"data row10 col5\" >-0.106</td>\n",
       "      <td id=\"T_73331_row10_col6\" class=\"data row10 col6\" >0.726</td>\n",
       "      <td id=\"T_73331_row10_col7\" class=\"data row10 col7\" >0.064</td>\n",
       "      <td id=\"T_73331_row10_col8\" class=\"data row10 col8\" >-0.096</td>\n",
       "      <td id=\"T_73331_row10_col9\" class=\"data row10 col9\" >0.756</td>\n",
       "      <td id=\"T_73331_row10_col10\" class=\"data row10 col10\" >0.065</td>\n",
       "      <td id=\"T_73331_row10_col11\" class=\"data row10 col11\" >-0.097</td>\n",
       "      <td id=\"T_73331_row10_col12\" class=\"data row10 col12\" >0.706</td>\n",
       "      <td id=\"T_73331_row10_col13\" class=\"data row10 col13\" >0.062</td>\n",
       "      <td id=\"T_73331_row10_col14\" class=\"data row10 col14\" >-0.099</td>\n",
       "    </tr>\n",
       "    <tr>\n",
       "      <th id=\"T_73331_level0_row11\" class=\"row_heading level0 row11\" >USCRN:Baker-5-W</th>\n",
       "      <td id=\"T_73331_row11_col0\" class=\"data row11 col0\" >0.803</td>\n",
       "      <td id=\"T_73331_row11_col1\" class=\"data row11 col1\" >0.024</td>\n",
       "      <td id=\"T_73331_row11_col2\" class=\"data row11 col2\" >0.059</td>\n",
       "      <td id=\"T_73331_row11_col3\" class=\"data row11 col3\" >0.805</td>\n",
       "      <td id=\"T_73331_row11_col4\" class=\"data row11 col4\" >0.023</td>\n",
       "      <td id=\"T_73331_row11_col5\" class=\"data row11 col5\" >0.068</td>\n",
       "      <td id=\"T_73331_row11_col6\" class=\"data row11 col6\" >0.748</td>\n",
       "      <td id=\"T_73331_row11_col7\" class=\"data row11 col7\" >0.025</td>\n",
       "      <td id=\"T_73331_row11_col8\" class=\"data row11 col8\" >0.082</td>\n",
       "      <td id=\"T_73331_row11_col9\" class=\"data row11 col9\" >0.781</td>\n",
       "      <td id=\"T_73331_row11_col10\" class=\"data row11 col10\" >0.023</td>\n",
       "      <td id=\"T_73331_row11_col11\" class=\"data row11 col11\" >0.110</td>\n",
       "      <td id=\"T_73331_row11_col12\" class=\"data row11 col12\" >0.617</td>\n",
       "      <td id=\"T_73331_row11_col13\" class=\"data row11 col13\" >0.031</td>\n",
       "      <td id=\"T_73331_row11_col14\" class=\"data row11 col14\" >0.052</td>\n",
       "    </tr>\n",
       "    <tr>\n",
       "      <th id=\"T_73331_level0_row12\" class=\"row_heading level0 row12\" >USCRN:Whitman-5-ENE</th>\n",
       "      <td id=\"T_73331_row12_col0\" class=\"data row12 col0\" >0.722</td>\n",
       "      <td id=\"T_73331_row12_col1\" class=\"data row12 col1\" >0.024</td>\n",
       "      <td id=\"T_73331_row12_col2\" class=\"data row12 col2\" >0.044</td>\n",
       "      <td id=\"T_73331_row12_col3\" class=\"data row12 col3\" >0.741</td>\n",
       "      <td id=\"T_73331_row12_col4\" class=\"data row12 col4\" >0.022</td>\n",
       "      <td id=\"T_73331_row12_col5\" class=\"data row12 col5\" >0.044</td>\n",
       "      <td id=\"T_73331_row12_col6\" class=\"data row12 col6\" >0.665</td>\n",
       "      <td id=\"T_73331_row12_col7\" class=\"data row12 col7\" >0.024</td>\n",
       "      <td id=\"T_73331_row12_col8\" class=\"data row12 col8\" >0.042</td>\n",
       "      <td id=\"T_73331_row12_col9\" class=\"data row12 col9\" >0.705</td>\n",
       "      <td id=\"T_73331_row12_col10\" class=\"data row12 col10\" >0.020</td>\n",
       "      <td id=\"T_73331_row12_col11\" class=\"data row12 col11\" >0.094</td>\n",
       "      <td id=\"T_73331_row12_col12\" class=\"data row12 col12\" >0.674</td>\n",
       "      <td id=\"T_73331_row12_col13\" class=\"data row12 col13\" >0.036</td>\n",
       "      <td id=\"T_73331_row12_col14\" class=\"data row12 col14\" >0.059</td>\n",
       "    </tr>\n",
       "    <tr>\n",
       "      <th id=\"T_73331_level0_row13\" class=\"row_heading level0 row13\" >SCAN:FrenchGulch</th>\n",
       "      <td id=\"T_73331_row13_col0\" class=\"data row13 col0\" >0.528</td>\n",
       "      <td id=\"T_73331_row13_col1\" class=\"data row13 col1\" >0.061</td>\n",
       "      <td id=\"T_73331_row13_col2\" class=\"data row13 col2\" >0.115</td>\n",
       "      <td id=\"T_73331_row13_col3\" class=\"data row13 col3\" >0.555</td>\n",
       "      <td id=\"T_73331_row13_col4\" class=\"data row13 col4\" >0.063</td>\n",
       "      <td id=\"T_73331_row13_col5\" class=\"data row13 col5\" >0.111</td>\n",
       "      <td id=\"T_73331_row13_col6\" class=\"data row13 col6\" >0.421</td>\n",
       "      <td id=\"T_73331_row13_col7\" class=\"data row13 col7\" >0.080</td>\n",
       "      <td id=\"T_73331_row13_col8\" class=\"data row13 col8\" >0.101</td>\n",
       "      <td id=\"T_73331_row13_col9\" class=\"data row13 col9\" >0.562</td>\n",
       "      <td id=\"T_73331_row13_col10\" class=\"data row13 col10\" >0.056</td>\n",
       "      <td id=\"T_73331_row13_col11\" class=\"data row13 col11\" >0.144</td>\n",
       "      <td id=\"T_73331_row13_col12\" class=\"data row13 col12\" >0.447</td>\n",
       "      <td id=\"T_73331_row13_col13\" class=\"data row13 col13\" >0.120</td>\n",
       "      <td id=\"T_73331_row13_col14\" class=\"data row13 col14\" >0.270</td>\n",
       "    </tr>\n",
       "    <tr>\n",
       "      <th id=\"T_73331_level0_row14\" class=\"row_heading level0 row14\" >SCAN:MountainHome</th>\n",
       "      <td id=\"T_73331_row14_col0\" class=\"data row14 col0\" >0.801</td>\n",
       "      <td id=\"T_73331_row14_col1\" class=\"data row14 col1\" >0.038</td>\n",
       "      <td id=\"T_73331_row14_col2\" class=\"data row14 col2\" >0.059</td>\n",
       "      <td id=\"T_73331_row14_col3\" class=\"data row14 col3\" >0.795</td>\n",
       "      <td id=\"T_73331_row14_col4\" class=\"data row14 col4\" >0.040</td>\n",
       "      <td id=\"T_73331_row14_col5\" class=\"data row14 col5\" >0.066</td>\n",
       "      <td id=\"T_73331_row14_col6\" class=\"data row14 col6\" >0.719</td>\n",
       "      <td id=\"T_73331_row14_col7\" class=\"data row14 col7\" >0.045</td>\n",
       "      <td id=\"T_73331_row14_col8\" class=\"data row14 col8\" >0.062</td>\n",
       "      <td id=\"T_73331_row14_col9\" class=\"data row14 col9\" >0.809</td>\n",
       "      <td id=\"T_73331_row14_col10\" class=\"data row14 col10\" >0.043</td>\n",
       "      <td id=\"T_73331_row14_col11\" class=\"data row14 col11\" >0.084</td>\n",
       "      <td id=\"T_73331_row14_col12\" class=\"data row14 col12\" >0.696</td>\n",
       "      <td id=\"T_73331_row14_col13\" class=\"data row14 col13\" >0.045</td>\n",
       "      <td id=\"T_73331_row14_col14\" class=\"data row14 col14\" >0.060</td>\n",
       "    </tr>\n",
       "    <tr>\n",
       "      <th id=\"T_73331_level0_row15\" class=\"row_heading level0 row15\" >ARM:Tyro</th>\n",
       "      <td id=\"T_73331_row15_col0\" class=\"data row15 col0\" >-0.541</td>\n",
       "      <td id=\"T_73331_row15_col1\" class=\"data row15 col1\" >0.142</td>\n",
       "      <td id=\"T_73331_row15_col2\" class=\"data row15 col2\" >0.125</td>\n",
       "      <td id=\"T_73331_row15_col3\" class=\"data row15 col3\" >-0.537</td>\n",
       "      <td id=\"T_73331_row15_col4\" class=\"data row15 col4\" >0.140</td>\n",
       "      <td id=\"T_73331_row15_col5\" class=\"data row15 col5\" >0.121</td>\n",
       "      <td id=\"T_73331_row15_col6\" class=\"data row15 col6\" >-0.587</td>\n",
       "      <td id=\"T_73331_row15_col7\" class=\"data row15 col7\" >0.144</td>\n",
       "      <td id=\"T_73331_row15_col8\" class=\"data row15 col8\" >0.113</td>\n",
       "      <td id=\"T_73331_row15_col9\" class=\"data row15 col9\" >-0.580</td>\n",
       "      <td id=\"T_73331_row15_col10\" class=\"data row15 col10\" >0.140</td>\n",
       "      <td id=\"T_73331_row15_col11\" class=\"data row15 col11\" >0.076</td>\n",
       "      <td id=\"T_73331_row15_col12\" class=\"data row15 col12\" >-0.543</td>\n",
       "      <td id=\"T_73331_row15_col13\" class=\"data row15 col13\" >0.162</td>\n",
       "      <td id=\"T_73331_row15_col14\" class=\"data row15 col14\" >0.109</td>\n",
       "    </tr>\n",
       "    <tr>\n",
       "      <th id=\"T_73331_level0_row16\" class=\"row_heading level0 row16\" >Avg.</th>\n",
       "      <td id=\"T_73331_row16_col0\" class=\"data row16 col0\" >0.637</td>\n",
       "      <td id=\"T_73331_row16_col1\" class=\"data row16 col1\" >0.049</td>\n",
       "      <td id=\"T_73331_row16_col2\" class=\"data row16 col2\" >0.015</td>\n",
       "      <td id=\"T_73331_row16_col3\" class=\"data row16 col3\" >0.639</td>\n",
       "      <td id=\"T_73331_row16_col4\" class=\"data row16 col4\" >0.050</td>\n",
       "      <td id=\"T_73331_row16_col5\" class=\"data row16 col5\" >0.014</td>\n",
       "      <td id=\"T_73331_row16_col6\" class=\"data row16 col6\" >0.553</td>\n",
       "      <td id=\"T_73331_row16_col7\" class=\"data row16 col7\" >0.055</td>\n",
       "      <td id=\"T_73331_row16_col8\" class=\"data row16 col8\" >0.019</td>\n",
       "      <td id=\"T_73331_row16_col9\" class=\"data row16 col9\" >0.620</td>\n",
       "      <td id=\"T_73331_row16_col10\" class=\"data row16 col10\" >0.051</td>\n",
       "      <td id=\"T_73331_row16_col11\" class=\"data row16 col11\" >0.050</td>\n",
       "      <td id=\"T_73331_row16_col12\" class=\"data row16 col12\" >0.568</td>\n",
       "      <td id=\"T_73331_row16_col13\" class=\"data row16 col13\" >0.059</td>\n",
       "      <td id=\"T_73331_row16_col14\" class=\"data row16 col14\" >0.030</td>\n",
       "    </tr>\n",
       "  </tbody>\n",
       "</table>\n"
      ],
      "text/plain": [
       "<pandas.io.formats.style.Styler at 0x7fd01e6bef10>"
      ]
     },
     "execution_count": 6,
     "metadata": {},
     "output_type": "execute_result"
    }
   ],
   "source": [
    "pred_df = val_pred_df\n",
    "prob_mets = station_metrics(pred_df,'p_pred')\n",
    "dense_mets = station_metrics(pred_df,'d_pred')\n",
    "smap_mets = station_metrics(pred_df,'smap')\n",
    "wens_mets = station_metrics(pred_df,'wens_pred')\n",
    "rf_mets = station_metrics(pred_df,'r_pred')\n",
    "\n",
    "ds_mets = pd.concat([dense_mets,prob_mets,wens_mets,rf_mets,smap_mets],axis=1).dropna()\n",
    "algs = ['d_','p_','wens_','r_','smap_']\n",
    "\n",
    "#List the Station Metrics for the top 16 stations\n",
    "stations_df = ds_mets.loc[test_df.loc[ds_mets.index].index.value_counts().index][:16]\n",
    "stations_df = pd.concat([stations_df,stations_df.mean().rename('Avg.').to_frame().T])\n",
    "stations_df.round(3).style.highlight_max(subset=[i+'r' for i in algs],axis=1,color='blue').highlight_min(subset=[i+'ub' for i in algs],axis=1,color='red').highlight_min(subset=[i+'b' for i in algs],axis=1,color='green').format(precision=3)"
   ]
  },
  {
   "cell_type": "code",
   "execution_count": 14,
   "id": "01486392-2b0d-4c6d-a58b-4d049bfc196e",
   "metadata": {},
   "outputs": [
    {
     "data": {
      "text/html": [
       "<div>\n",
       "<style scoped>\n",
       "    .dataframe tbody tr th:only-of-type {\n",
       "        vertical-align: middle;\n",
       "    }\n",
       "\n",
       "    .dataframe tbody tr th {\n",
       "        vertical-align: top;\n",
       "    }\n",
       "\n",
       "    .dataframe thead th {\n",
       "        text-align: right;\n",
       "    }\n",
       "</style>\n",
       "<table border=\"1\" class=\"dataframe\">\n",
       "  <thead>\n",
       "    <tr style=\"text-align: right;\">\n",
       "      <th></th>\n",
       "      <th>texture</th>\n",
       "      <th>koep</th>\n",
       "      <th>mcd12</th>\n",
       "    </tr>\n",
       "  </thead>\n",
       "  <tbody>\n",
       "    <tr>\n",
       "      <th>ARM:Ashton</th>\n",
       "      <td>8</td>\n",
       "      <td>9</td>\n",
       "      <td>10</td>\n",
       "    </tr>\n",
       "    <tr>\n",
       "      <th>ARM:Pawnee</th>\n",
       "      <td>7</td>\n",
       "      <td>9</td>\n",
       "      <td>10</td>\n",
       "    </tr>\n",
       "    <tr>\n",
       "      <th>ARM:Tyro</th>\n",
       "      <td>8</td>\n",
       "      <td>9</td>\n",
       "      <td>10</td>\n",
       "    </tr>\n",
       "    <tr>\n",
       "      <th>COSMOS:HarvardForest</th>\n",
       "      <td>9</td>\n",
       "      <td>19</td>\n",
       "      <td>4</td>\n",
       "    </tr>\n",
       "    <tr>\n",
       "      <th>COSMOS:IowaValidationSite</th>\n",
       "      <td>7</td>\n",
       "      <td>18</td>\n",
       "      <td>12</td>\n",
       "    </tr>\n",
       "    <tr>\n",
       "      <th>...</th>\n",
       "      <td>...</td>\n",
       "      <td>...</td>\n",
       "      <td>...</td>\n",
       "    </tr>\n",
       "    <tr>\n",
       "      <th>US-xJE</th>\n",
       "      <td>11</td>\n",
       "      <td>9</td>\n",
       "      <td>8</td>\n",
       "    </tr>\n",
       "    <tr>\n",
       "      <th>US-xSJ</th>\n",
       "      <td>9</td>\n",
       "      <td>12</td>\n",
       "      <td>9</td>\n",
       "    </tr>\n",
       "    <tr>\n",
       "      <th>US-xSP</th>\n",
       "      <td>9</td>\n",
       "      <td>12</td>\n",
       "      <td>8</td>\n",
       "    </tr>\n",
       "    <tr>\n",
       "      <th>US-xSR</th>\n",
       "      <td>6</td>\n",
       "      <td>5</td>\n",
       "      <td>7</td>\n",
       "    </tr>\n",
       "    <tr>\n",
       "      <th>US-xTE</th>\n",
       "      <td>9</td>\n",
       "      <td>13</td>\n",
       "      <td>8</td>\n",
       "    </tr>\n",
       "  </tbody>\n",
       "</table>\n",
       "<p>206 rows × 3 columns</p>\n",
       "</div>"
      ],
      "text/plain": [
       "                           texture  koep  mcd12\n",
       "ARM:Ashton                       8     9     10\n",
       "ARM:Pawnee                       7     9     10\n",
       "ARM:Tyro                         8     9     10\n",
       "COSMOS:HarvardForest             9    19      4\n",
       "COSMOS:IowaValidationSite        7    18     12\n",
       "...                            ...   ...    ...\n",
       "US-xJE                          11     9      8\n",
       "US-xSJ                           9    12      9\n",
       "US-xSP                           9    12      8\n",
       "US-xSR                           6     5      7\n",
       "US-xTE                           9    13      8\n",
       "\n",
       "[206 rows x 3 columns]"
      ]
     },
     "execution_count": 14,
     "metadata": {},
     "output_type": "execute_result"
    }
   ],
   "source": [
    "val_df = pd.read_pickle('Datasets/val_df.pkl')\n"
   ]
  },
  {
   "cell_type": "code",
   "execution_count": 17,
   "id": "bd7de96d-176d-47c0-917b-95d2a8395abd",
   "metadata": {},
   "outputs": [],
   "source": [
    "ds_mets.join(val_df.groupby(level=0).sample(1)[['texture','koep','mcd12']].loc[ds_mets.index]).to_pickle('Datasets/val_df_mets+.pkl')"
   ]
  },
  {
   "cell_type": "code",
   "execution_count": 8,
   "id": "fc25eb8e-f857-482a-80f4-ac2f4ed1e2ac",
   "metadata": {},
   "outputs": [],
   "source": [
    "ds_mets.to_pickle('Datasets/val_df_mets.pkl')"
   ]
  },
  {
   "cell_type": "markdown",
   "id": "b0726279-7a38-43ea-b52a-05731296943d",
   "metadata": {},
   "source": [
    "This is a summary of the metrics scored on each station in the dataset"
   ]
  },
  {
   "cell_type": "code",
   "execution_count": 7,
   "id": "1d196306-35db-45bc-9b59-379fbf1a27df",
   "metadata": {
    "tags": []
   },
   "outputs": [
    {
     "data": {
      "text/html": [
       "<div>\n",
       "<style scoped>\n",
       "    .dataframe tbody tr th:only-of-type {\n",
       "        vertical-align: middle;\n",
       "    }\n",
       "\n",
       "    .dataframe tbody tr th {\n",
       "        vertical-align: top;\n",
       "    }\n",
       "\n",
       "    .dataframe thead th {\n",
       "        text-align: right;\n",
       "    }\n",
       "</style>\n",
       "<table border=\"1\" class=\"dataframe\">\n",
       "  <thead>\n",
       "    <tr style=\"text-align: right;\">\n",
       "      <th></th>\n",
       "      <th>Dense</th>\n",
       "      <th>Prob</th>\n",
       "      <th>Wens</th>\n",
       "      <th>RF</th>\n",
       "      <th>SMAP</th>\n",
       "    </tr>\n",
       "  </thead>\n",
       "  <tbody>\n",
       "    <tr>\n",
       "      <th>R</th>\n",
       "      <td>0.632</td>\n",
       "      <td>0.628</td>\n",
       "      <td>0.594</td>\n",
       "      <td>0.630</td>\n",
       "      <td>0.559</td>\n",
       "    </tr>\n",
       "    <tr>\n",
       "      <th>ubRMSE</th>\n",
       "      <td>0.055</td>\n",
       "      <td>0.056</td>\n",
       "      <td>0.059</td>\n",
       "      <td>0.058</td>\n",
       "      <td>0.063</td>\n",
       "    </tr>\n",
       "    <tr>\n",
       "      <th>Bias</th>\n",
       "      <td>-0.004</td>\n",
       "      <td>-0.006</td>\n",
       "      <td>-0.001</td>\n",
       "      <td>0.019</td>\n",
       "      <td>0.025</td>\n",
       "    </tr>\n",
       "  </tbody>\n",
       "</table>\n",
       "</div>"
      ],
      "text/plain": [
       "        Dense   Prob   Wens     RF   SMAP\n",
       "R       0.632  0.628  0.594  0.630  0.559\n",
       "ubRMSE  0.055  0.056  0.059  0.058  0.063\n",
       "Bias   -0.004 -0.006 -0.001  0.019  0.025"
      ]
     },
     "execution_count": 7,
     "metadata": {},
     "output_type": "execute_result"
    }
   ],
   "source": [
    "series = []\n",
    "for var in ['_r','_ub','_b']:\n",
    "    sub = ds_mets[[i for i in ds_mets.columns if var in i]]\n",
    "    avg = sub.mean()\n",
    "    avg.name = var\n",
    "    avg = avg.to_frame().T\n",
    "    avg.columns = ['Dense','Prob','Wens','RF','SMAP']\n",
    "    series.append(avg)\n",
    "avgs = pd.concat(series)\n",
    "avgs.index = ['R','ubRMSE','Bias']\n",
    "avgs.round(3)"
   ]
  },
  {
   "cell_type": "markdown",
   "id": "8d6a3232-6eba-4253-aa39-37f687133d68",
   "metadata": {
    "tags": []
   },
   "source": [
    "## Washita"
   ]
  },
  {
   "cell_type": "code",
   "execution_count": null,
   "id": "0a51f423-4e6c-497c-9c9b-a9b834570a7a",
   "metadata": {
    "tags": []
   },
   "outputs": [],
   "source": [
    "wa_df = pd.read_pickle('Datasets/wa_validation.pkl')\n",
    "wa_rf = wa_df.copy()\n",
    "wa_df['NDVI_500'] /= 10000\n",
    "wa_df['LST_11'] /= 5000\n",
    "wa_df['LST_11'] -= 2.7315\n",
    "wa_df['precip'] /= 1000\n",
    "wa_df['sand'] /= 100\n",
    "wa_df['clay'] /= 100\n",
    "wa_df['ET'] /= 1000\n",
    "wa_df['ph'] /= 1000\n",
    "wa_df['dem'] /= 10000\n",
    "wa_df.dem = round(wa_df.dem,4)\n",
    "cond = wa_df.LST_11 > 0\n",
    "wa_df = wa_df[cond]\n",
    "wa_rf = wa_rf[cond]\n",
    "wa_rf = to_rf(wa_rf)"
   ]
  },
  {
   "cell_type": "code",
   "execution_count": null,
   "id": "45e3d7e1-7c55-4767-b247-512bb66d7814",
   "metadata": {},
   "outputs": [],
   "source": [
    "val_df = wa_df.loc[:,['sand','clay','ph','dem','ET','NDVI_500','LST_11','precip','smap']]\n",
    "dense_pred = ens_pred(val_df,dense_dict)\n",
    "prob_pred = ens_pred(val_df,prob_dict)\n",
    "wens_pred = wdl_ens(wa_df,wdl_dict)\n",
    "rf_pred = rf_predict(wa_rf,rf_dict,['LST_11','NDVI_500'])"
   ]
  },
  {
   "cell_type": "code",
   "execution_count": null,
   "id": "86affb93-b5e9-494b-8fa1-17e038600076",
   "metadata": {
    "tags": []
   },
   "outputs": [],
   "source": [
    "wa_pred_df = wa_df.copy()[['in_situ','smap']]\n",
    "wa_pred_df['d_pred'] = dense_pred\n",
    "wa_pred_df['p_pred'] = prob_pred\n",
    "wa_pred_df['wens_pred'] = wens_pred\n",
    "wa_pred_df['r_pred'] = rf_pred\n",
    "wa_pred_df.to_pickle('Datasets/wa_df_preds.pkl')"
   ]
  },
  {
   "cell_type": "code",
   "execution_count": null,
   "id": "9d9be496-d42c-451c-91ef-a0d34063d989",
   "metadata": {
    "tags": []
   },
   "outputs": [],
   "source": [
    "prob_mets = station_metrics(wa_pred_df,'p_pred')\n",
    "dense_mets = station_metrics(wa_pred_df,'d_pred')\n",
    "smap_mets = station_metrics(wa_pred_df,'smap')\n",
    "wens_mets = station_metrics(wa_pred_df,'wens_pred')\n",
    "r_mets = station_metrics(wa_pred_df,'r_pred')\n",
    "wa_mets = pd.concat([dense_mets,prob_mets,wens_mets,r_mets,smap_mets],axis=1).dropna()"
   ]
  },
  {
   "cell_type": "code",
   "execution_count": null,
   "id": "7c3ce47c-09c9-4aab-b2d0-58aa5baa1ac0",
   "metadata": {
    "tags": []
   },
   "outputs": [],
   "source": [
    "new_mets = wa_mets\n",
    "mean_mets = new_mets.mean().rename('Avg.')\n",
    "\n",
    "# Concatenate the selected rows with the mean\n",
    "new_mets = pd.concat([new_mets.loc[new_mets.index.value_counts().index], mean_mets.to_frame().T])\n",
    "algs = ['p_','d_','wens_','r_','smap_']\n",
    "\n",
    "new_mets.round(3).style.highlight_max(subset=[i+'r' for i in algs],axis=1,color='blue').highlight_min(subset=[i+'ub' for i in algs],axis=1,color='red').highlight_min(subset=[i+'b' for i in algs],axis=1,color='green').format(precision=3)"
   ]
  },
  {
   "cell_type": "code",
   "execution_count": null,
   "id": "7a4a2e7c-5e3a-4e58-86c8-e8fcc631926f",
   "metadata": {},
   "outputs": [],
   "source": [
    "series = []\n",
    "for var in ['_r','_ub','_b']:\n",
    "    sub = wa_mets[[i for i in wa_mets.columns if var in i]]\n",
    "    avg = sub.mean()\n",
    "    avg.name = var\n",
    "    avg = avg.to_frame().T\n",
    "    avg.columns = ['Dense','Prob','Wens','RF','SMAP']\n",
    "    series.append(avg)\n",
    "avgs = pd.concat(series)\n",
    "avgs.index = ['R','ubRMSE','Bias']\n",
    "avgs.round(3)"
   ]
  },
  {
   "cell_type": "markdown",
   "id": "e7b7f6b1-cec4-4cf5-bd35-5762a0f26288",
   "metadata": {
    "tags": []
   },
   "source": [
    "## Fort Cobb"
   ]
  },
  {
   "cell_type": "code",
   "execution_count": null,
   "id": "58143694-fff5-4f6a-b5de-0cfd568954c7",
   "metadata": {},
   "outputs": [],
   "source": [
    "fc_df = pd.read_pickle('Datasets/fc_validation.pkl')\n",
    "fc_rf = fc_df.copy()\n",
    "fc_df['NDVI_500'] /= 10000\n",
    "fc_df['LST_11'] /= 5000\n",
    "fc_df['LST_11'] -= 2.7315\n",
    "fc_df['precip'] /= 1000\n",
    "fc_df['sand'] /= 100\n",
    "fc_df['clay'] /= 100\n",
    "fc_df['ET'] /= 1000\n",
    "fc_df['ph'] /= 100\n",
    "fc_df['dem'] /= 10000\n",
    "fc_df.dem = round(fc_df.dem,4)\n",
    "cond = fc_df.LST_11 > 0\n",
    "fc_df = fc_df[cond]\n",
    "fc_rf = fc_rf[cond]\n",
    "fc_rf = to_rf(fc_rf)"
   ]
  },
  {
   "cell_type": "code",
   "execution_count": null,
   "id": "7365b9ad-61bd-46e6-a07c-1530e3b8f17b",
   "metadata": {
    "tags": []
   },
   "outputs": [],
   "source": [
    "base_df = fc_df\n",
    "val_df = base_df.loc[:,['sand','clay','ph','dem','ET','NDVI_500','LST_11','precip','smap']]\n",
    "dense_pred = ens_pred(val_df,dense_dict)\n",
    "prob_pred = ens_pred(val_df,prob_dict)\n",
    "wens_pred = wdl_ens(base_df,wdl_dict)\n",
    "rf_pred = rf_predict(fc_rf,rf_dict,['LST_11','NDVI_500'])"
   ]
  },
  {
   "cell_type": "code",
   "execution_count": null,
   "id": "4a16e230-72cd-4692-9cd7-88343179a628",
   "metadata": {},
   "outputs": [],
   "source": [
    "fc_pred_df = fc_df.copy()[['in_situ','smap']]\n",
    "fc_pred_df['d_pred'] = dense_pred\n",
    "fc_pred_df['p_pred'] = prob_pred\n",
    "fc_pred_df['wens_pred'] = wens_pred\n",
    "fc_pred_df['r_pred'] = rf_pred\n",
    "fc_pred_df.to_pickle('Datasets/fc_df_preds.pkl')"
   ]
  },
  {
   "cell_type": "code",
   "execution_count": null,
   "id": "78e28635-bbbc-446a-b9fb-3117db61ecc5",
   "metadata": {},
   "outputs": [],
   "source": [
    "pred_df = fc_pred_df\n",
    "prob_mets = station_metrics(pred_df,'p_pred')\n",
    "dense_mets = station_metrics(pred_df,'d_pred')\n",
    "smap_mets = station_metrics(pred_df,'smap')\n",
    "wens_mets = station_metrics(pred_df,'wens_pred')\n",
    "r_mets = station_metrics(pred_df,'r_pred')\n",
    "fc_mets = pd.concat([dense_mets,prob_mets,wens_mets,r_mets,smap_mets],axis=1).dropna()"
   ]
  },
  {
   "cell_type": "code",
   "execution_count": null,
   "id": "c953686d-20e7-4f33-ab95-a343470cd56f",
   "metadata": {
    "tags": []
   },
   "outputs": [],
   "source": [
    "new_mets = fc_mets\n",
    "mean_mets = new_mets.mean().rename('Avg.')\n",
    "\n",
    "# Concatenate the selected rows with the mean\n",
    "new_mets = pd.concat([new_mets.loc[new_mets.index.value_counts().index], mean_mets.to_frame().T])\n",
    "algs = ['p_','d_','wens_','r_','smap_']\n",
    "\n",
    "new_mets.round(3).style.highlight_max(subset=[i+'r' for i in algs],axis=1,color='blue').highlight_min(subset=[i+'ub' for i in algs],axis=1,color='red').highlight_min(subset=[i+'b' for i in algs],axis=1,color='green').format(precision=3)"
   ]
  },
  {
   "cell_type": "code",
   "execution_count": null,
   "id": "dcba9526-0c02-4eb8-bb47-944c07c9956b",
   "metadata": {},
   "outputs": [],
   "source": [
    "series = []\n",
    "for var in ['_r','_ub','_b']:\n",
    "    sub = fc_mets[[i for i in fc_mets.columns if var in i]]\n",
    "    avg = sub.mean()\n",
    "    avg.name = var\n",
    "    avg = avg.to_frame().T\n",
    "    avg.columns = ['Dense','Prob','Wens','RF','SMAP']\n",
    "    series.append(avg)\n",
    "avgs = pd.concat(series)\n",
    "avgs.index = ['R','ubRMSE','Bias']\n",
    "avgs.round(3)"
   ]
  }
 ],
 "metadata": {
  "kernelspec": {
   "display_name": "tf",
   "language": "python",
   "name": "tf"
  },
  "language_info": {
   "codemirror_mode": {
    "name": "ipython",
    "version": 3
   },
   "file_extension": ".py",
   "mimetype": "text/x-python",
   "name": "python",
   "nbconvert_exporter": "python",
   "pygments_lexer": "ipython3",
   "version": "3.11.5"
  }
 },
 "nbformat": 4,
 "nbformat_minor": 5
}
