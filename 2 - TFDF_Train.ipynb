{
 "cells": [
  {
   "cell_type": "code",
   "execution_count": 1,
   "id": "e0e8075c-ed90-4d49-88b1-64989a951515",
   "metadata": {},
   "outputs": [
    {
     "name": "stderr",
     "output_type": "stream",
     "text": [
      "2024-01-05 11:56:21.509441: I tensorflow/tsl/cuda/cudart_stub.cc:28] Could not find cuda drivers on your machine, GPU will not be used.\n",
      "2024-01-05 11:56:21.571687: I tensorflow/tsl/cuda/cudart_stub.cc:28] Could not find cuda drivers on your machine, GPU will not be used.\n",
      "2024-01-05 11:56:21.572914: I tensorflow/core/platform/cpu_feature_guard.cc:182] This TensorFlow binary is optimized to use available CPU instructions in performance-critical operations.\n",
      "To enable the following instructions: AVX2 FMA, in other operations, rebuild TensorFlow with the appropriate compiler flags.\n",
      "2024-01-05 11:56:25.719585: W tensorflow/compiler/tf2tensorrt/utils/py_utils.cc:38] TF-TRT Warning: Could not find TensorRT\n"
     ]
    }
   ],
   "source": [
    "import tensorflow_decision_forests as tfdf\n",
    "import pandas as pd\n",
    "import pickle"
   ]
  },
  {
   "cell_type": "code",
   "execution_count": 3,
   "id": "617d0bf7-7efb-4aef-aab0-be3451fb2336",
   "metadata": {},
   "outputs": [],
   "source": [
    "def to_rf(df):\n",
    "    df = df.fillna(-1)\n",
    "    for col in df.columns:\n",
    "        if col in ['dem','smap','precip','in_situ']:\n",
    "            df[col] = df[col].astype('float32')\n",
    "        elif col =='date':\n",
    "            continue\n",
    "        else:\n",
    "            df[col] = df[col].astype('int16')\n",
    "    return df"
   ]
  },
  {
   "cell_type": "code",
   "execution_count": 4,
   "id": "99fb9067-d737-4a46-b7ff-6b7d0c00ec1e",
   "metadata": {},
   "outputs": [],
   "source": [
    "all_df = pd.read_pickle('Datasets/all_df_final.pkl')\n",
    "test_df = pd.read_pickle('Datasets/val_df.pkl')\n",
    "cond = all_df.index.isin(test_df.index)\n",
    "train_df = all_df[~cond]\n",
    "train_df = to_rf(train_df)"
   ]
  },
  {
   "cell_type": "markdown",
   "id": "b6425f93-ca33-47ad-b07c-47ac8bd0b2ef",
   "metadata": {},
   "source": [
    "Tuners"
   ]
  },
  {
   "cell_type": "code",
   "execution_count": null,
   "id": "74b97c9c-bf74-4518-b674-11390b0f1eb9",
   "metadata": {},
   "outputs": [],
   "source": [
    "tuner_rf = tfdf.tuner.RandomSearch(num_trials=100)\n",
    "tuner_rf.choice(\"min_examples\", [2, 5, 7, 10])\n",
    "tuner_rf.choice(\"num_trees\", [100])\n",
    "local_search_space = tuner_rf.choice(\"growing_strategy\", [\"LOCAL\"])\n",
    "local_search_space.choice(\"max_depth\", [8,16, 24, 32])\n",
    "global_search_space = tuner_rf.choice(\"growing_strategy\", [\"BEST_FIRST_GLOBAL\"], merge=True)\n",
    "global_search_space.choice(\"max_num_nodes\", [16, 32, 64, 128, 256])"
   ]
  },
  {
   "cell_type": "markdown",
   "id": "72a379dd-1e95-4e79-81a1-579cfe251763",
   "metadata": {},
   "source": [
    "## Single Ensemble Training "
   ]
  },
  {
   "cell_type": "code",
   "execution_count": null,
   "id": "65c7d060-c3e6-4954-9d6a-6859ce34ca10",
   "metadata": {
    "tags": []
   },
   "outputs": [],
   "source": [
    "label = 'in_situ'\n",
    "variables = ['sand','clay','texture','ph','dem','ET','NDVI_500','LST_11','precip','smap','in_situ']\n",
    "\n",
    "for text in train_df.texture.unique():\n",
    "    sub_df = train_df.loc[lambda d: d.texture == text].loc[:,variables].drop('texture',axis=1)\n",
    "    train_ds = tfdf.keras.pd_dataframe_to_tf_dataset(sub_df, label=label, task=tfdf.keras.Task.REGRESSION)\n",
    "    model = tfdf.keras.RandomForestModel(task = tfdf.keras.Task.REGRESSION,verbose=0,\n",
    "                                             tuner=tuner_rf)\n",
    "    model.fit(x=train_ds)\n",
    "    model.save(f'Models/RF/{text}',overwrite=True)\n",
    "    with open(f'Models/RF/summaries/{text}.txt', 'w') as f:\n",
    "        model.summary(print_fn=lambda x: f.write(x + '\\n'))"
   ]
  },
  {
   "cell_type": "markdown",
   "id": "68e7995c-2999-495f-80ca-a64951dab57a",
   "metadata": {},
   "source": [
    "## Crossfold Ensemble Training"
   ]
  },
  {
   "cell_type": "code",
   "execution_count": null,
   "id": "7f8b7648-5405-484f-993c-654aa3279517",
   "metadata": {
    "tags": []
   },
   "outputs": [],
   "source": [
    "label = 'in_situ'\n",
    "variables = ['sand','clay','texture','ph','dem','ET','NDVI_500','LST_11','precip','smap','in_situ']\n",
    "\n",
    "for k in range(10):\n",
    "    df = pd.read_csv(f'Datasets/Crossfold_Datasets/{k}.csv').set_index('Unnamed: 0')\n",
    "    train_df = all_df.loc[df.index.unique()].loc[:,variables]\n",
    "    train_df = to_rf(train_df)\n",
    "    for text in train_df['texture'].unique():\n",
    "        sub_df = train_df.loc[lambda d: d.texture == text].drop('texture',axis=1)\n",
    "        train_ds = tfdf.keras.pd_dataframe_to_tf_dataset(sub_df, label=label, task=tfdf.keras.Task.REGRESSION)\n",
    "        model = tfdf.keras.RandomForestModel(task = tfdf.keras.Task.REGRESSION,verbose=0,\n",
    "                                                 tuner=tuner_rf)\n",
    "        model.fit(x=train_ds)\n",
    "        model.save(f'Models/crossfold/rf/{k}/{text}',overwrite=True)\n",
    "        with open(f'Models/crossfold/rf/{k}/summaries/{text}.txt', 'w') as f:\n",
    "            model.summary(print_fn=lambda x: f.write(x + '\\n'))"
   ]
  },
  {
   "cell_type": "code",
   "execution_count": null,
   "id": "a03dfd50-058a-4a70-a6c7-a8a0099f0f77",
   "metadata": {},
   "outputs": [],
   "source": []
  }
 ],
 "metadata": {
  "kernelspec": {
   "display_name": "tf",
   "language": "python",
   "name": "tf"
  },
  "language_info": {
   "codemirror_mode": {
    "name": "ipython",
    "version": 3
   },
   "file_extension": ".py",
   "mimetype": "text/x-python",
   "name": "python",
   "nbconvert_exporter": "python",
   "pygments_lexer": "ipython3",
   "version": "3.11.5"
  }
 },
 "nbformat": 4,
 "nbformat_minor": 5
}
